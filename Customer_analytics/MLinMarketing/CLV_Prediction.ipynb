{
 "cells": [
  {
   "cell_type": "code",
   "execution_count": 131,
   "metadata": {},
   "outputs": [
    {
     "data": {
      "text/html": [
       "<div>\n",
       "<style scoped>\n",
       "    .dataframe tbody tr th:only-of-type {\n",
       "        vertical-align: middle;\n",
       "    }\n",
       "\n",
       "    .dataframe tbody tr th {\n",
       "        vertical-align: top;\n",
       "    }\n",
       "\n",
       "    .dataframe thead th {\n",
       "        text-align: right;\n",
       "    }\n",
       "</style>\n",
       "<table border=\"1\" class=\"dataframe\">\n",
       "  <thead>\n",
       "    <tr style=\"text-align: right;\">\n",
       "      <th></th>\n",
       "      <th>CohortMonth</th>\n",
       "      <th>1</th>\n",
       "      <th>2</th>\n",
       "      <th>3</th>\n",
       "      <th>4</th>\n",
       "      <th>5</th>\n",
       "      <th>6</th>\n",
       "      <th>7</th>\n",
       "      <th>8</th>\n",
       "      <th>9</th>\n",
       "      <th>10</th>\n",
       "      <th>11</th>\n",
       "      <th>12</th>\n",
       "      <th>13</th>\n",
       "    </tr>\n",
       "  </thead>\n",
       "  <tbody>\n",
       "    <tr>\n",
       "      <th>0</th>\n",
       "      <td>2010-12-01</td>\n",
       "      <td>716.0</td>\n",
       "      <td>246.0</td>\n",
       "      <td>221.0</td>\n",
       "      <td>251.0</td>\n",
       "      <td>245.0</td>\n",
       "      <td>285.0</td>\n",
       "      <td>249.0</td>\n",
       "      <td>236.0</td>\n",
       "      <td>240.0</td>\n",
       "      <td>265.0</td>\n",
       "      <td>254.0</td>\n",
       "      <td>348.0</td>\n",
       "      <td>172.0</td>\n",
       "    </tr>\n",
       "    <tr>\n",
       "      <th>1</th>\n",
       "      <td>2011-01-01</td>\n",
       "      <td>332.0</td>\n",
       "      <td>69.0</td>\n",
       "      <td>82.0</td>\n",
       "      <td>81.0</td>\n",
       "      <td>110.0</td>\n",
       "      <td>90.0</td>\n",
       "      <td>82.0</td>\n",
       "      <td>86.0</td>\n",
       "      <td>104.0</td>\n",
       "      <td>102.0</td>\n",
       "      <td>124.0</td>\n",
       "      <td>45.0</td>\n",
       "      <td>NaN</td>\n",
       "    </tr>\n",
       "    <tr>\n",
       "      <th>2</th>\n",
       "      <td>2011-02-01</td>\n",
       "      <td>316.0</td>\n",
       "      <td>58.0</td>\n",
       "      <td>57.0</td>\n",
       "      <td>83.0</td>\n",
       "      <td>85.0</td>\n",
       "      <td>74.0</td>\n",
       "      <td>80.0</td>\n",
       "      <td>83.0</td>\n",
       "      <td>86.0</td>\n",
       "      <td>95.0</td>\n",
       "      <td>28.0</td>\n",
       "      <td>NaN</td>\n",
       "      <td>NaN</td>\n",
       "    </tr>\n",
       "    <tr>\n",
       "      <th>3</th>\n",
       "      <td>2011-03-01</td>\n",
       "      <td>388.0</td>\n",
       "      <td>63.0</td>\n",
       "      <td>100.0</td>\n",
       "      <td>76.0</td>\n",
       "      <td>83.0</td>\n",
       "      <td>67.0</td>\n",
       "      <td>98.0</td>\n",
       "      <td>85.0</td>\n",
       "      <td>107.0</td>\n",
       "      <td>38.0</td>\n",
       "      <td>NaN</td>\n",
       "      <td>NaN</td>\n",
       "      <td>NaN</td>\n",
       "    </tr>\n",
       "    <tr>\n",
       "      <th>4</th>\n",
       "      <td>2011-04-01</td>\n",
       "      <td>255.0</td>\n",
       "      <td>49.0</td>\n",
       "      <td>52.0</td>\n",
       "      <td>49.0</td>\n",
       "      <td>47.0</td>\n",
       "      <td>52.0</td>\n",
       "      <td>56.0</td>\n",
       "      <td>59.0</td>\n",
       "      <td>17.0</td>\n",
       "      <td>NaN</td>\n",
       "      <td>NaN</td>\n",
       "      <td>NaN</td>\n",
       "      <td>NaN</td>\n",
       "    </tr>\n",
       "  </tbody>\n",
       "</table>\n",
       "</div>"
      ],
      "text/plain": [
       "  CohortMonth      1      2      3      4      5      6      7      8      9  \\\n",
       "0  2010-12-01  716.0  246.0  221.0  251.0  245.0  285.0  249.0  236.0  240.0   \n",
       "1  2011-01-01  332.0   69.0   82.0   81.0  110.0   90.0   82.0   86.0  104.0   \n",
       "2  2011-02-01  316.0   58.0   57.0   83.0   85.0   74.0   80.0   83.0   86.0   \n",
       "3  2011-03-01  388.0   63.0  100.0   76.0   83.0   67.0   98.0   85.0  107.0   \n",
       "4  2011-04-01  255.0   49.0   52.0   49.0   47.0   52.0   56.0   59.0   17.0   \n",
       "\n",
       "      10     11     12     13  \n",
       "0  265.0  254.0  348.0  172.0  \n",
       "1  102.0  124.0   45.0    NaN  \n",
       "2   95.0   28.0    NaN    NaN  \n",
       "3   38.0    NaN    NaN    NaN  \n",
       "4    NaN    NaN    NaN    NaN  "
      ]
     },
     "execution_count": 131,
     "metadata": {},
     "output_type": "execute_result"
    }
   ],
   "source": [
    "import pandas as pd\n",
    "import numpy as np\n",
    "import matplotlib.pyplot as plt\n",
    "import matplotlib as mpl\n",
    "mpl.rcParams['figure.dpi']=400\n",
    "df = pd.read_csv('cohort_counts.csv')\n",
    "df.head()"
   ]
  },
  {
   "cell_type": "code",
   "execution_count": 132,
   "metadata": {},
   "outputs": [],
   "source": [
    "df = df.fillna(0)"
   ]
  },
  {
   "cell_type": "code",
   "execution_count": 133,
   "metadata": {},
   "outputs": [],
   "source": [
    "df.set_index('CohortMonth', inplace=True)"
   ]
  },
  {
   "cell_type": "code",
   "execution_count": 134,
   "metadata": {
    "scrolled": true
   },
   "outputs": [
    {
     "data": {
      "text/plain": [
       "CohortMonth\n",
       "2010-12-01    716.0\n",
       "2011-01-01    332.0\n",
       "2011-02-01    316.0\n",
       "2011-03-01    388.0\n",
       "2011-04-01    255.0\n",
       "2011-05-01    249.0\n",
       "2011-06-01    207.0\n",
       "2011-07-01    173.0\n",
       "2011-08-01    139.0\n",
       "2011-09-01    279.0\n",
       "2011-10-01    318.0\n",
       "2011-11-01    291.0\n",
       "2011-12-01     38.0\n",
       "Name: 1, dtype: float64"
      ]
     },
     "execution_count": 134,
     "metadata": {},
     "output_type": "execute_result"
    }
   ],
   "source": [
    "cohort_sizes = df.iloc[:,0]\n",
    "cohort_sizes"
   ]
  },
  {
   "cell_type": "code",
   "execution_count": 135,
   "metadata": {},
   "outputs": [
    {
     "name": "stdout",
     "output_type": "stream",
     "text": [
      "               1         2         3         4         5         6         7  \\\n",
      "CohortMonth                                                                    \n",
      "2010-12-01   1.0  0.343575  0.308659  0.350559  0.342179  0.398045  0.347765   \n",
      "2011-01-01   1.0  0.207831  0.246988  0.243976  0.331325  0.271084  0.246988   \n",
      "2011-02-01   1.0  0.183544  0.180380  0.262658  0.268987  0.234177  0.253165   \n",
      "2011-03-01   1.0  0.162371  0.257732  0.195876  0.213918  0.172680  0.252577   \n",
      "2011-04-01   1.0  0.192157  0.203922  0.192157  0.184314  0.203922  0.219608   \n",
      "2011-05-01   1.0  0.160643  0.172691  0.144578  0.208835  0.232932  0.244980   \n",
      "2011-06-01   1.0  0.159420  0.125604  0.198068  0.236715  0.299517  0.091787   \n",
      "2011-07-01   1.0  0.161850  0.179191  0.219653  0.254335  0.098266  0.000000   \n",
      "2011-08-01   1.0  0.215827  0.201439  0.251799  0.100719  0.000000  0.000000   \n",
      "2011-09-01   1.0  0.200717  0.279570  0.121864  0.000000  0.000000  0.000000   \n",
      "2011-10-01   1.0  0.210692  0.094340  0.000000  0.000000  0.000000  0.000000   \n",
      "2011-11-01   1.0  0.109966  0.000000  0.000000  0.000000  0.000000  0.000000   \n",
      "2011-12-01   1.0  0.000000  0.000000  0.000000  0.000000  0.000000  0.000000   \n",
      "\n",
      "                    8         9        10        11        12        13  \n",
      "CohortMonth                                                              \n",
      "2010-12-01   0.329609  0.335196  0.370112  0.354749  0.486034  0.240223  \n",
      "2011-01-01   0.259036  0.313253  0.307229  0.373494  0.135542  0.000000  \n",
      "2011-02-01   0.262658  0.272152  0.300633  0.088608  0.000000  0.000000  \n",
      "2011-03-01   0.219072  0.275773  0.097938  0.000000  0.000000  0.000000  \n",
      "2011-04-01   0.231373  0.066667  0.000000  0.000000  0.000000  0.000000  \n",
      "2011-05-01   0.088353  0.000000  0.000000  0.000000  0.000000  0.000000  \n",
      "2011-06-01   0.000000  0.000000  0.000000  0.000000  0.000000  0.000000  \n",
      "2011-07-01   0.000000  0.000000  0.000000  0.000000  0.000000  0.000000  \n",
      "2011-08-01   0.000000  0.000000  0.000000  0.000000  0.000000  0.000000  \n",
      "2011-09-01   0.000000  0.000000  0.000000  0.000000  0.000000  0.000000  \n",
      "2011-10-01   0.000000  0.000000  0.000000  0.000000  0.000000  0.000000  \n",
      "2011-11-01   0.000000  0.000000  0.000000  0.000000  0.000000  0.000000  \n",
      "2011-12-01   0.000000  0.000000  0.000000  0.000000  0.000000  0.000000  \n"
     ]
    }
   ],
   "source": [
    "retention = df.divide(cohort_sizes, axis=0)\n",
    "churn = 1 - retention\n",
    "print(retention)"
   ]
  },
  {
   "cell_type": "code",
   "execution_count": 136,
   "metadata": {},
   "outputs": [
    {
     "name": "stdout",
     "output_type": "stream",
     "text": [
      "Retention rate: 0.11; Churn rate: 0.89\n"
     ]
    }
   ],
   "source": [
    "retention_rate = retention.iloc[:,1:].mean().mean()\n",
    "churn_rate = churn.iloc[:,1:].mean().mean()\n",
    "print('Retention rate: {:.2f}; Churn rate: {:.2f}'.format(retention_rate, churn_rate))"
   ]
  },
  {
   "cell_type": "code",
   "execution_count": 137,
   "metadata": {},
   "outputs": [],
   "source": [
    "online = pd.read_csv('Online12M.csv')"
   ]
  },
  {
   "cell_type": "code",
   "execution_count": 138,
   "metadata": {},
   "outputs": [],
   "source": [
    "# import datetime as dt\n",
    "# # def get_month(x): return dt.datetime(x.year, x.month, 1)\n",
    "online['InvoiceDate'] = pd.to_datetime(online['InvoiceDate'])\n",
    "# online['InvoiceMonth'] = online['InvoiceDate'].apply(lambda s: dt.datetime(s.year, s.month, 1))"
   ]
  },
  {
   "cell_type": "code",
   "execution_count": 139,
   "metadata": {},
   "outputs": [],
   "source": [
    "import datetime as dt\n",
    "online['InvoiceMonth'] = pd.to_datetime(online['InvoiceDate']).dt.to_period('M')"
   ]
  },
  {
   "cell_type": "code",
   "execution_count": 140,
   "metadata": {},
   "outputs": [
    {
     "data": {
      "text/html": [
       "<div>\n",
       "<style scoped>\n",
       "    .dataframe tbody tr th:only-of-type {\n",
       "        vertical-align: middle;\n",
       "    }\n",
       "\n",
       "    .dataframe tbody tr th {\n",
       "        vertical-align: top;\n",
       "    }\n",
       "\n",
       "    .dataframe thead th {\n",
       "        text-align: right;\n",
       "    }\n",
       "</style>\n",
       "<table border=\"1\" class=\"dataframe\">\n",
       "  <thead>\n",
       "    <tr style=\"text-align: right;\">\n",
       "      <th></th>\n",
       "      <th>Unnamed: 0</th>\n",
       "      <th>InvoiceNo</th>\n",
       "      <th>StockCode</th>\n",
       "      <th>Description</th>\n",
       "      <th>Quantity</th>\n",
       "      <th>InvoiceDate</th>\n",
       "      <th>UnitPrice</th>\n",
       "      <th>CustomerID</th>\n",
       "      <th>Country</th>\n",
       "      <th>InvoiceMonth</th>\n",
       "    </tr>\n",
       "  </thead>\n",
       "  <tbody>\n",
       "    <tr>\n",
       "      <th>0</th>\n",
       "      <td>416792</td>\n",
       "      <td>572558</td>\n",
       "      <td>22745</td>\n",
       "      <td>POPPY'S PLAYHOUSE BEDROOM</td>\n",
       "      <td>6</td>\n",
       "      <td>2011-10-25</td>\n",
       "      <td>2.10</td>\n",
       "      <td>14286</td>\n",
       "      <td>United Kingdom</td>\n",
       "      <td>2011-10</td>\n",
       "    </tr>\n",
       "    <tr>\n",
       "      <th>1</th>\n",
       "      <td>482904</td>\n",
       "      <td>577485</td>\n",
       "      <td>23196</td>\n",
       "      <td>VINTAGE LEAF MAGNETIC NOTEPAD</td>\n",
       "      <td>1</td>\n",
       "      <td>2011-11-20</td>\n",
       "      <td>1.45</td>\n",
       "      <td>16360</td>\n",
       "      <td>United Kingdom</td>\n",
       "      <td>2011-11</td>\n",
       "    </tr>\n",
       "    <tr>\n",
       "      <th>2</th>\n",
       "      <td>263743</td>\n",
       "      <td>560034</td>\n",
       "      <td>23299</td>\n",
       "      <td>FOOD COVER WITH BEADS SET 2</td>\n",
       "      <td>6</td>\n",
       "      <td>2011-07-14</td>\n",
       "      <td>3.75</td>\n",
       "      <td>13933</td>\n",
       "      <td>United Kingdom</td>\n",
       "      <td>2011-07</td>\n",
       "    </tr>\n",
       "    <tr>\n",
       "      <th>3</th>\n",
       "      <td>495549</td>\n",
       "      <td>578307</td>\n",
       "      <td>72349B</td>\n",
       "      <td>SET/6 PURPLE BUTTERFLY T-LIGHTS</td>\n",
       "      <td>1</td>\n",
       "      <td>2011-11-23</td>\n",
       "      <td>2.10</td>\n",
       "      <td>17290</td>\n",
       "      <td>United Kingdom</td>\n",
       "      <td>2011-11</td>\n",
       "    </tr>\n",
       "    <tr>\n",
       "      <th>4</th>\n",
       "      <td>204384</td>\n",
       "      <td>554656</td>\n",
       "      <td>21756</td>\n",
       "      <td>BATH BUILDING BLOCK WORD</td>\n",
       "      <td>3</td>\n",
       "      <td>2011-05-25</td>\n",
       "      <td>5.95</td>\n",
       "      <td>17663</td>\n",
       "      <td>United Kingdom</td>\n",
       "      <td>2011-05</td>\n",
       "    </tr>\n",
       "  </tbody>\n",
       "</table>\n",
       "</div>"
      ],
      "text/plain": [
       "   Unnamed: 0  InvoiceNo StockCode                      Description  Quantity  \\\n",
       "0      416792     572558     22745       POPPY'S PLAYHOUSE BEDROOM          6   \n",
       "1      482904     577485     23196    VINTAGE LEAF MAGNETIC NOTEPAD         1   \n",
       "2      263743     560034     23299     FOOD COVER WITH BEADS SET 2          6   \n",
       "3      495549     578307    72349B  SET/6 PURPLE BUTTERFLY T-LIGHTS         1   \n",
       "4      204384     554656     21756         BATH BUILDING BLOCK WORD         3   \n",
       "\n",
       "  InvoiceDate  UnitPrice  CustomerID         Country InvoiceMonth  \n",
       "0  2011-10-25       2.10       14286  United Kingdom      2011-10  \n",
       "1  2011-11-20       1.45       16360  United Kingdom      2011-11  \n",
       "2  2011-07-14       3.75       13933  United Kingdom      2011-07  \n",
       "3  2011-11-23       2.10       17290  United Kingdom      2011-11  \n",
       "4  2011-05-25       5.95       17663  United Kingdom      2011-05  "
      ]
     },
     "execution_count": 140,
     "metadata": {},
     "output_type": "execute_result"
    }
   ],
   "source": [
    "online.head()"
   ]
  },
  {
   "cell_type": "code",
   "execution_count": 141,
   "metadata": {},
   "outputs": [
    {
     "data": {
      "text/plain": [
       "Unnamed: 0               int64\n",
       "InvoiceNo                int64\n",
       "StockCode               object\n",
       "Description             object\n",
       "Quantity                 int64\n",
       "InvoiceDate     datetime64[ns]\n",
       "UnitPrice              float64\n",
       "CustomerID               int64\n",
       "Country                 object\n",
       "InvoiceMonth         period[M]\n",
       "dtype: object"
      ]
     },
     "execution_count": 141,
     "metadata": {},
     "output_type": "execute_result"
    }
   ],
   "source": [
    "online.dtypes"
   ]
  },
  {
   "cell_type": "code",
   "execution_count": 143,
   "metadata": {},
   "outputs": [],
   "source": [
    "online['TotalSum'] = online['Quantity']*online['UnitPrice']"
   ]
  },
  {
   "cell_type": "code",
   "execution_count": 144,
   "metadata": {},
   "outputs": [
    {
     "name": "stdout",
     "output_type": "stream",
     "text": [
      "Average basiv CLV is 4726.4 USD\n",
      "Monthly Revenue is: 131.3 USD\n"
     ]
    }
   ],
   "source": [
    "monthly_revenue = online.groupby(['CustomerID', 'InvoiceMonth'])\\\n",
    "                                 ['TotalSum'].sum().mean()\n",
    "monthly_revenue = np.mean(monthly_revenue)\n",
    "lifespan_months = 36\n",
    "clv_basic = monthly_revenue*lifespan_months\n",
    "print('Average basiv CLV is {:.1f} USD'.format(clv_basic))\n",
    "print('Monthly Revenue is: {:.1f} USD'.format(monthly_revenue))"
   ]
  },
  {
   "cell_type": "code",
   "execution_count": 145,
   "metadata": {},
   "outputs": [
    {
     "name": "stdout",
     "output_type": "stream",
     "text": [
      "Average granular CLV is 1611.9 USD\n",
      "Revenue per purchase: 34.6 USD\n",
      "Frequency per month: 1.3\n"
     ]
    }
   ],
   "source": [
    "revenue_per_purchase = online.groupby(['InvoiceNo'])['TotalSum'].mean().mean()\n",
    "freq = online.groupby(['CustomerID', 'InvoiceMonth'])['InvoiceNo'].nunique().mean()\n",
    "clv_granular = revenue_per_purchase*freq*lifespan_months\n",
    "print('Average granular CLV is {:.1f} USD'.format(clv_granular))\n",
    "print('Revenue per purchase: {:.1f} USD'.format(revenue_per_purchase))\n",
    "print('Frequency per month: {:.2}'.format(freq))"
   ]
  },
  {
   "cell_type": "code",
   "execution_count": 146,
   "metadata": {},
   "outputs": [
    {
     "name": "stdout",
     "output_type": "stream",
     "text": [
      "Average traditional CLV is 17.0 USD at 11.4 % retention_rate\n",
      "Monthly average revenue is: 131.3 USD\n"
     ]
    }
   ],
   "source": [
    "monthly_revenue = online.groupby(['CustomerID', 'InvoiceMonth'])\\\n",
    "                                 ['TotalSum'].sum().mean()\n",
    "retention_rate = retention.iloc[:,1:].mean().mean()\n",
    "churn = 1 - retention_rate\n",
    "clv_traditonal = monthly_revenue*(retention_rate/churn_rate)\n",
    "print('Average traditional CLV is {:.1f} USD at {:.1f} % retention_rate'.format(\n",
    "    clv_traditonal, retention_rate*100))\n",
    "print('Monthly average revenue is: {:.1f} USD'.format(monthly_revenue))"
   ]
  },
  {
   "cell_type": "code",
   "execution_count": 147,
   "metadata": {},
   "outputs": [
    {
     "data": {
      "text/plain": [
       "InvoiceMonth\n",
       "2010-12     2205\n",
       "2011-01     3580\n",
       "2011-02     3648\n",
       "2011-03     4764\n",
       "2011-04     4148\n",
       "2011-05     5018\n",
       "2011-06     4669\n",
       "2011-07     4610\n",
       "2011-08     4744\n",
       "2011-09     7189\n",
       "2011-10     8808\n",
       "2011-11    11644\n",
       "2011-12     3149\n",
       "Freq: M, dtype: int64"
      ]
     },
     "execution_count": 147,
     "metadata": {},
     "output_type": "execute_result"
    }
   ],
   "source": [
    "online.groupby(['InvoiceMonth']).size()"
   ]
  },
  {
   "cell_type": "code",
   "execution_count": 148,
   "metadata": {},
   "outputs": [
    {
     "data": {
      "text/plain": [
       "InvoiceMonth\n",
       "2010-12     2205\n",
       "2011-01     3580\n",
       "2011-02     3648\n",
       "2011-03     4764\n",
       "2011-04     4148\n",
       "2011-05     5018\n",
       "2011-06     4669\n",
       "2011-07     4610\n",
       "2011-08     4744\n",
       "2011-09     7189\n",
       "2011-10     8808\n",
       "2011-11    11644\n",
       "Freq: M, dtype: int64"
      ]
     },
     "execution_count": 148,
     "metadata": {},
     "output_type": "execute_result"
    }
   ],
   "source": [
    "online_X = online[online['InvoiceMonth'] != '2011-12-01']\n",
    "online_X.groupby(['InvoiceMonth']).size()"
   ]
  },
  {
   "cell_type": "code",
   "execution_count": 149,
   "metadata": {},
   "outputs": [
    {
     "data": {
      "text/plain": [
       "(65027, 11)"
      ]
     },
     "execution_count": 149,
     "metadata": {},
     "output_type": "execute_result"
    }
   ],
   "source": [
    "online_X.shape"
   ]
  },
  {
   "cell_type": "code",
   "execution_count": 150,
   "metadata": {},
   "outputs": [
    {
     "data": {
      "text/plain": [
       "Unnamed: 0               int64\n",
       "InvoiceNo                int64\n",
       "StockCode               object\n",
       "Description             object\n",
       "Quantity                 int64\n",
       "InvoiceDate     datetime64[ns]\n",
       "UnitPrice              float64\n",
       "CustomerID               int64\n",
       "Country                 object\n",
       "InvoiceMonth         period[M]\n",
       "TotalSum               float64\n",
       "dtype: object"
      ]
     },
     "execution_count": 150,
     "metadata": {},
     "output_type": "execute_result"
    }
   ],
   "source": [
    "online.dtypes"
   ]
  },
  {
   "cell_type": "code",
   "execution_count": 151,
   "metadata": {},
   "outputs": [],
   "source": [
    "# online.loc[online['CustomerID'].isin(some_values)]"
   ]
  },
  {
   "cell_type": "code",
   "execution_count": 152,
   "metadata": {},
   "outputs": [
    {
     "data": {
      "text/plain": [
       "datetime.datetime(2011, 12, 1, 0, 0)"
      ]
     },
     "execution_count": 152,
     "metadata": {},
     "output_type": "execute_result"
    }
   ],
   "source": [
    "NOW = dt.datetime(2011,12,1)\n",
    "NOW"
   ]
  },
  {
   "cell_type": "code",
   "execution_count": 153,
   "metadata": {},
   "outputs": [],
   "source": [
    "features = online_X.groupby('CustomerID').agg({\n",
    "                            'InvoiceDate': lambda x: (NOW-x.max()).days,\n",
    "                            'InvoiceNo': pd.Series.nunique,\n",
    "                            'TotalSum': np.sum,\n",
    "                            'Quantity': ['mean', 'sum']\n",
    "                            }).reset_index()"
   ]
  },
  {
   "cell_type": "code",
   "execution_count": 154,
   "metadata": {},
   "outputs": [],
   "source": [
    "features.columns = ['CustomerID', 'recency', 'frequency', \n",
    "                    'monetary', 'qunatity_avg', 'quantity_total']"
   ]
  },
  {
   "cell_type": "code",
   "execution_count": 155,
   "metadata": {},
   "outputs": [
    {
     "data": {
      "text/html": [
       "<div>\n",
       "<style scoped>\n",
       "    .dataframe tbody tr th:only-of-type {\n",
       "        vertical-align: middle;\n",
       "    }\n",
       "\n",
       "    .dataframe tbody tr th {\n",
       "        vertical-align: top;\n",
       "    }\n",
       "\n",
       "    .dataframe thead th {\n",
       "        text-align: right;\n",
       "    }\n",
       "</style>\n",
       "<table border=\"1\" class=\"dataframe\">\n",
       "  <thead>\n",
       "    <tr style=\"text-align: right;\">\n",
       "      <th></th>\n",
       "      <th>CustomerID</th>\n",
       "      <th>recency</th>\n",
       "      <th>frequency</th>\n",
       "      <th>monetary</th>\n",
       "      <th>qunatity_avg</th>\n",
       "      <th>quantity_total</th>\n",
       "    </tr>\n",
       "  </thead>\n",
       "  <tbody>\n",
       "    <tr>\n",
       "      <th>0</th>\n",
       "      <td>12747</td>\n",
       "      <td>14</td>\n",
       "      <td>9</td>\n",
       "      <td>646.40</td>\n",
       "      <td>10.000000</td>\n",
       "      <td>210</td>\n",
       "    </tr>\n",
       "    <tr>\n",
       "      <th>1</th>\n",
       "      <td>12748</td>\n",
       "      <td>2</td>\n",
       "      <td>135</td>\n",
       "      <td>6833.36</td>\n",
       "      <td>6.328087</td>\n",
       "      <td>5227</td>\n",
       "    </tr>\n",
       "    <tr>\n",
       "      <th>2</th>\n",
       "      <td>12749</td>\n",
       "      <td>14</td>\n",
       "      <td>3</td>\n",
       "      <td>725.85</td>\n",
       "      <td>7.718750</td>\n",
       "      <td>247</td>\n",
       "    </tr>\n",
       "    <tr>\n",
       "      <th>3</th>\n",
       "      <td>12820</td>\n",
       "      <td>36</td>\n",
       "      <td>3</td>\n",
       "      <td>202.62</td>\n",
       "      <td>10.307692</td>\n",
       "      <td>134</td>\n",
       "    </tr>\n",
       "    <tr>\n",
       "      <th>4</th>\n",
       "      <td>12822</td>\n",
       "      <td>62</td>\n",
       "      <td>2</td>\n",
       "      <td>146.15</td>\n",
       "      <td>9.666667</td>\n",
       "      <td>87</td>\n",
       "    </tr>\n",
       "  </tbody>\n",
       "</table>\n",
       "</div>"
      ],
      "text/plain": [
       "   CustomerID  recency  frequency  monetary  qunatity_avg  quantity_total\n",
       "0       12747       14          9    646.40     10.000000             210\n",
       "1       12748        2        135   6833.36      6.328087            5227\n",
       "2       12749       14          3    725.85      7.718750             247\n",
       "3       12820       36          3    202.62     10.307692             134\n",
       "4       12822       62          2    146.15      9.666667              87"
      ]
     },
     "execution_count": 155,
     "metadata": {},
     "output_type": "execute_result"
    }
   ],
   "source": [
    "features.head()"
   ]
  },
  {
   "cell_type": "code",
   "execution_count": 156,
   "metadata": {},
   "outputs": [
    {
     "data": {
      "text/plain": [
       "(3603, 6)"
      ]
     },
     "execution_count": 156,
     "metadata": {},
     "output_type": "execute_result"
    }
   ],
   "source": [
    "features.shape"
   ]
  },
  {
   "cell_type": "code",
   "execution_count": 157,
   "metadata": {},
   "outputs": [
    {
     "data": {
      "text/plain": [
       "(3643, 13)"
      ]
     },
     "execution_count": 157,
     "metadata": {},
     "output_type": "execute_result"
    }
   ],
   "source": [
    "cust_month_tx = pd.pivot_table(data=online, values='InvoiceNo',\n",
    "                               index=['CustomerID'], columns=['InvoiceMonth'],\n",
    "                               aggfunc=pd.Series.nunique, fill_value=0)\n",
    "cust_month_tx.shape"
   ]
  },
  {
   "cell_type": "code",
   "execution_count": 159,
   "metadata": {},
   "outputs": [
    {
     "data": {
      "text/plain": [
       "(3643, 1)"
      ]
     },
     "execution_count": 159,
     "metadata": {},
     "output_type": "execute_result"
    }
   ],
   "source": [
    "target = ['2011-12-01']\n",
    "y = cust_month_tx[target]\n",
    "y.shape"
   ]
  },
  {
   "cell_type": "code",
   "execution_count": 160,
   "metadata": {},
   "outputs": [
    {
     "data": {
      "text/html": [
       "<div>\n",
       "<style scoped>\n",
       "    .dataframe tbody tr th:only-of-type {\n",
       "        vertical-align: middle;\n",
       "    }\n",
       "\n",
       "    .dataframe tbody tr th {\n",
       "        vertical-align: top;\n",
       "    }\n",
       "\n",
       "    .dataframe thead th {\n",
       "        text-align: right;\n",
       "    }\n",
       "</style>\n",
       "<table border=\"1\" class=\"dataframe\">\n",
       "  <thead>\n",
       "    <tr style=\"text-align: right;\">\n",
       "      <th>InvoiceMonth</th>\n",
       "      <th>2010-12</th>\n",
       "      <th>2011-01</th>\n",
       "      <th>2011-02</th>\n",
       "      <th>2011-03</th>\n",
       "      <th>2011-04</th>\n",
       "      <th>2011-05</th>\n",
       "      <th>2011-06</th>\n",
       "      <th>2011-07</th>\n",
       "      <th>2011-08</th>\n",
       "      <th>2011-09</th>\n",
       "      <th>2011-10</th>\n",
       "      <th>2011-11</th>\n",
       "      <th>2011-12</th>\n",
       "    </tr>\n",
       "    <tr>\n",
       "      <th>CustomerID</th>\n",
       "      <th></th>\n",
       "      <th></th>\n",
       "      <th></th>\n",
       "      <th></th>\n",
       "      <th></th>\n",
       "      <th></th>\n",
       "      <th></th>\n",
       "      <th></th>\n",
       "      <th></th>\n",
       "      <th></th>\n",
       "      <th></th>\n",
       "      <th></th>\n",
       "      <th></th>\n",
       "    </tr>\n",
       "  </thead>\n",
       "  <tbody>\n",
       "    <tr>\n",
       "      <th>12747</th>\n",
       "      <td>1</td>\n",
       "      <td>1</td>\n",
       "      <td>0</td>\n",
       "      <td>1</td>\n",
       "      <td>0</td>\n",
       "      <td>2</td>\n",
       "      <td>1</td>\n",
       "      <td>0</td>\n",
       "      <td>1</td>\n",
       "      <td>0</td>\n",
       "      <td>1</td>\n",
       "      <td>1</td>\n",
       "      <td>1</td>\n",
       "    </tr>\n",
       "    <tr>\n",
       "      <th>12748</th>\n",
       "      <td>11</td>\n",
       "      <td>2</td>\n",
       "      <td>4</td>\n",
       "      <td>9</td>\n",
       "      <td>3</td>\n",
       "      <td>17</td>\n",
       "      <td>12</td>\n",
       "      <td>8</td>\n",
       "      <td>9</td>\n",
       "      <td>9</td>\n",
       "      <td>10</td>\n",
       "      <td>41</td>\n",
       "      <td>8</td>\n",
       "    </tr>\n",
       "    <tr>\n",
       "      <th>12749</th>\n",
       "      <td>0</td>\n",
       "      <td>0</td>\n",
       "      <td>0</td>\n",
       "      <td>0</td>\n",
       "      <td>0</td>\n",
       "      <td>1</td>\n",
       "      <td>0</td>\n",
       "      <td>0</td>\n",
       "      <td>1</td>\n",
       "      <td>0</td>\n",
       "      <td>0</td>\n",
       "      <td>1</td>\n",
       "      <td>1</td>\n",
       "    </tr>\n",
       "    <tr>\n",
       "      <th>12820</th>\n",
       "      <td>0</td>\n",
       "      <td>1</td>\n",
       "      <td>0</td>\n",
       "      <td>0</td>\n",
       "      <td>0</td>\n",
       "      <td>0</td>\n",
       "      <td>0</td>\n",
       "      <td>0</td>\n",
       "      <td>0</td>\n",
       "      <td>1</td>\n",
       "      <td>1</td>\n",
       "      <td>0</td>\n",
       "      <td>1</td>\n",
       "    </tr>\n",
       "    <tr>\n",
       "      <th>12822</th>\n",
       "      <td>0</td>\n",
       "      <td>0</td>\n",
       "      <td>0</td>\n",
       "      <td>0</td>\n",
       "      <td>0</td>\n",
       "      <td>0</td>\n",
       "      <td>0</td>\n",
       "      <td>0</td>\n",
       "      <td>0</td>\n",
       "      <td>2</td>\n",
       "      <td>0</td>\n",
       "      <td>0</td>\n",
       "      <td>0</td>\n",
       "    </tr>\n",
       "  </tbody>\n",
       "</table>\n",
       "</div>"
      ],
      "text/plain": [
       "InvoiceMonth  2010-12  2011-01  2011-02  2011-03  2011-04  2011-05  2011-06  \\\n",
       "CustomerID                                                                    \n",
       "12747               1        1        0        1        0        2        1   \n",
       "12748              11        2        4        9        3       17       12   \n",
       "12749               0        0        0        0        0        1        0   \n",
       "12820               0        1        0        0        0        0        0   \n",
       "12822               0        0        0        0        0        0        0   \n",
       "\n",
       "InvoiceMonth  2011-07  2011-08  2011-09  2011-10  2011-11  2011-12  \n",
       "CustomerID                                                          \n",
       "12747               0        1        0        1        1        1  \n",
       "12748               8        9        9       10       41        8  \n",
       "12749               0        1        0        0        1        1  \n",
       "12820               0        0        1        1        0        1  \n",
       "12822               0        0        2        0        0        0  "
      ]
     },
     "execution_count": 160,
     "metadata": {},
     "output_type": "execute_result"
    }
   ],
   "source": [
    "cust_month_tx.head()"
   ]
  },
  {
   "cell_type": "code",
   "execution_count": 161,
   "metadata": {},
   "outputs": [
    {
     "data": {
      "text/plain": [
       "(3603, 5)"
      ]
     },
     "execution_count": 161,
     "metadata": {},
     "output_type": "execute_result"
    }
   ],
   "source": [
    "custid = ['CustomerID']\n",
    "cols = [col for col in features.columns if col not in custid]\n",
    "X = features[cols]\n",
    "X.shape"
   ]
  },
  {
   "cell_type": "code",
   "execution_count": 163,
   "metadata": {},
   "outputs": [],
   "source": [
    "compare_online_X = features"
   ]
  },
  {
   "cell_type": "code",
   "execution_count": 164,
   "metadata": {},
   "outputs": [
    {
     "data": {
      "text/html": [
       "<div>\n",
       "<style scoped>\n",
       "    .dataframe tbody tr th:only-of-type {\n",
       "        vertical-align: middle;\n",
       "    }\n",
       "\n",
       "    .dataframe tbody tr th {\n",
       "        vertical-align: top;\n",
       "    }\n",
       "\n",
       "    .dataframe thead th {\n",
       "        text-align: right;\n",
       "    }\n",
       "</style>\n",
       "<table border=\"1\" class=\"dataframe\">\n",
       "  <thead>\n",
       "    <tr style=\"text-align: right;\">\n",
       "      <th></th>\n",
       "      <th>CustomerID</th>\n",
       "      <th>recency</th>\n",
       "      <th>frequency</th>\n",
       "      <th>monetary</th>\n",
       "      <th>qunatity_avg</th>\n",
       "      <th>quantity_total</th>\n",
       "    </tr>\n",
       "  </thead>\n",
       "  <tbody>\n",
       "    <tr>\n",
       "      <th>0</th>\n",
       "      <td>12747</td>\n",
       "      <td>14</td>\n",
       "      <td>9</td>\n",
       "      <td>646.40</td>\n",
       "      <td>10.000000</td>\n",
       "      <td>210</td>\n",
       "    </tr>\n",
       "    <tr>\n",
       "      <th>1</th>\n",
       "      <td>12748</td>\n",
       "      <td>2</td>\n",
       "      <td>135</td>\n",
       "      <td>6833.36</td>\n",
       "      <td>6.328087</td>\n",
       "      <td>5227</td>\n",
       "    </tr>\n",
       "    <tr>\n",
       "      <th>2</th>\n",
       "      <td>12749</td>\n",
       "      <td>14</td>\n",
       "      <td>3</td>\n",
       "      <td>725.85</td>\n",
       "      <td>7.718750</td>\n",
       "      <td>247</td>\n",
       "    </tr>\n",
       "    <tr>\n",
       "      <th>3</th>\n",
       "      <td>12820</td>\n",
       "      <td>36</td>\n",
       "      <td>3</td>\n",
       "      <td>202.62</td>\n",
       "      <td>10.307692</td>\n",
       "      <td>134</td>\n",
       "    </tr>\n",
       "    <tr>\n",
       "      <th>4</th>\n",
       "      <td>12822</td>\n",
       "      <td>62</td>\n",
       "      <td>2</td>\n",
       "      <td>146.15</td>\n",
       "      <td>9.666667</td>\n",
       "      <td>87</td>\n",
       "    </tr>\n",
       "  </tbody>\n",
       "</table>\n",
       "</div>"
      ],
      "text/plain": [
       "   CustomerID  recency  frequency  monetary  qunatity_avg  quantity_total\n",
       "0       12747       14          9    646.40     10.000000             210\n",
       "1       12748        2        135   6833.36      6.328087            5227\n",
       "2       12749       14          3    725.85      7.718750             247\n",
       "3       12820       36          3    202.62     10.307692             134\n",
       "4       12822       62          2    146.15      9.666667              87"
      ]
     },
     "execution_count": 164,
     "metadata": {},
     "output_type": "execute_result"
    }
   ],
   "source": [
    "compare_online_X.head()"
   ]
  },
  {
   "cell_type": "code",
   "execution_count": 165,
   "metadata": {},
   "outputs": [],
   "source": [
    "compare_online_X.set_index('CustomerID', inplace=True)"
   ]
  },
  {
   "cell_type": "code",
   "execution_count": 166,
   "metadata": {},
   "outputs": [],
   "source": [
    "x = list(compare_online_X.index.values)\n",
    "f = list(cust_month_tx.index.values)\n",
    "missing_indexes = list((set(x) | set(f)) - (set(x) & set(f))) #if you need a list"
   ]
  },
  {
   "cell_type": "code",
   "execution_count": 167,
   "metadata": {},
   "outputs": [
    {
     "data": {
      "text/plain": [
       "40"
      ]
     },
     "execution_count": 167,
     "metadata": {},
     "output_type": "execute_result"
    }
   ],
   "source": [
    "len(missing_indexes)"
   ]
  },
  {
   "cell_type": "code",
   "execution_count": 169,
   "metadata": {},
   "outputs": [
    {
     "data": {
      "text/html": [
       "<div>\n",
       "<style scoped>\n",
       "    .dataframe tbody tr th:only-of-type {\n",
       "        vertical-align: middle;\n",
       "    }\n",
       "\n",
       "    .dataframe tbody tr th {\n",
       "        vertical-align: top;\n",
       "    }\n",
       "\n",
       "    .dataframe thead th {\n",
       "        text-align: right;\n",
       "    }\n",
       "</style>\n",
       "<table border=\"1\" class=\"dataframe\">\n",
       "  <thead>\n",
       "    <tr style=\"text-align: right;\">\n",
       "      <th></th>\n",
       "      <th>Unnamed: 0</th>\n",
       "      <th>InvoiceNo</th>\n",
       "      <th>StockCode</th>\n",
       "      <th>Description</th>\n",
       "      <th>Quantity</th>\n",
       "      <th>InvoiceDate</th>\n",
       "      <th>UnitPrice</th>\n",
       "      <th>CustomerID</th>\n",
       "      <th>Country</th>\n",
       "      <th>InvoiceMonth</th>\n",
       "      <th>TotalSum</th>\n",
       "    </tr>\n",
       "  </thead>\n",
       "  <tbody>\n",
       "    <tr>\n",
       "      <th>358</th>\n",
       "      <td>517830</td>\n",
       "      <td>580094</td>\n",
       "      <td>23359</td>\n",
       "      <td>SET OF 12 T-LIGHTS VINTAGE DOILY</td>\n",
       "      <td>3</td>\n",
       "      <td>2011-12-01</td>\n",
       "      <td>1.95</td>\n",
       "      <td>15904</td>\n",
       "      <td>United Kingdom</td>\n",
       "      <td>2011-12</td>\n",
       "      <td>5.85</td>\n",
       "    </tr>\n",
       "    <tr>\n",
       "      <th>760</th>\n",
       "      <td>530167</td>\n",
       "      <td>580819</td>\n",
       "      <td>22757</td>\n",
       "      <td>LARGE RED BABUSHKA NOTEBOOK</td>\n",
       "      <td>24</td>\n",
       "      <td>2011-12-06</td>\n",
       "      <td>0.39</td>\n",
       "      <td>15318</td>\n",
       "      <td>United Kingdom</td>\n",
       "      <td>2011-12</td>\n",
       "      <td>9.36</td>\n",
       "    </tr>\n",
       "    <tr>\n",
       "      <th>1385</th>\n",
       "      <td>523964</td>\n",
       "      <td>580526</td>\n",
       "      <td>22078</td>\n",
       "      <td>RIBBON REEL LACE DESIGN</td>\n",
       "      <td>10</td>\n",
       "      <td>2011-12-04</td>\n",
       "      <td>2.10</td>\n",
       "      <td>16535</td>\n",
       "      <td>United Kingdom</td>\n",
       "      <td>2011-12</td>\n",
       "      <td>21.00</td>\n",
       "    </tr>\n",
       "    <tr>\n",
       "      <th>1752</th>\n",
       "      <td>529484</td>\n",
       "      <td>580731</td>\n",
       "      <td>22942</td>\n",
       "      <td>CHRISTMAS LIGHTS 10 SANTAS</td>\n",
       "      <td>2</td>\n",
       "      <td>2011-12-05</td>\n",
       "      <td>2.95</td>\n",
       "      <td>17383</td>\n",
       "      <td>United Kingdom</td>\n",
       "      <td>2011-12</td>\n",
       "      <td>5.90</td>\n",
       "    </tr>\n",
       "    <tr>\n",
       "      <th>1933</th>\n",
       "      <td>534281</td>\n",
       "      <td>581142</td>\n",
       "      <td>20726</td>\n",
       "      <td>LUNCH BAG WOODLAND</td>\n",
       "      <td>4</td>\n",
       "      <td>2011-12-07</td>\n",
       "      <td>1.65</td>\n",
       "      <td>14204</td>\n",
       "      <td>United Kingdom</td>\n",
       "      <td>2011-12</td>\n",
       "      <td>6.60</td>\n",
       "    </tr>\n",
       "  </tbody>\n",
       "</table>\n",
       "</div>"
      ],
      "text/plain": [
       "      Unnamed: 0  InvoiceNo StockCode                       Description  \\\n",
       "358       517830     580094     23359  SET OF 12 T-LIGHTS VINTAGE DOILY   \n",
       "760       530167     580819     22757      LARGE RED BABUSHKA NOTEBOOK    \n",
       "1385      523964     580526     22078          RIBBON REEL LACE DESIGN    \n",
       "1752      529484     580731     22942       CHRISTMAS LIGHTS 10 SANTAS    \n",
       "1933      534281     581142     20726                LUNCH BAG WOODLAND   \n",
       "\n",
       "      Quantity InvoiceDate  UnitPrice  CustomerID         Country  \\\n",
       "358          3  2011-12-01       1.95       15904  United Kingdom   \n",
       "760         24  2011-12-06       0.39       15318  United Kingdom   \n",
       "1385        10  2011-12-04       2.10       16535  United Kingdom   \n",
       "1752         2  2011-12-05       2.95       17383  United Kingdom   \n",
       "1933         4  2011-12-07       1.65       14204  United Kingdom   \n",
       "\n",
       "     InvoiceMonth  TotalSum  \n",
       "358       2011-12      5.85  \n",
       "760       2011-12      9.36  \n",
       "1385      2011-12     21.00  \n",
       "1752      2011-12      5.90  \n",
       "1933      2011-12      6.60  "
      ]
     },
     "execution_count": 169,
     "metadata": {},
     "output_type": "execute_result"
    }
   ],
   "source": [
    "online.loc[online['CustomerID'].isin(missing_indexes)].head()"
   ]
  },
  {
   "cell_type": "code",
   "execution_count": 172,
   "metadata": {},
   "outputs": [
    {
     "data": {
      "text/html": [
       "<div>\n",
       "<style scoped>\n",
       "    .dataframe tbody tr th:only-of-type {\n",
       "        vertical-align: middle;\n",
       "    }\n",
       "\n",
       "    .dataframe tbody tr th {\n",
       "        vertical-align: top;\n",
       "    }\n",
       "\n",
       "    .dataframe thead th {\n",
       "        text-align: right;\n",
       "    }\n",
       "</style>\n",
       "<table border=\"1\" class=\"dataframe\">\n",
       "  <thead>\n",
       "    <tr style=\"text-align: right;\">\n",
       "      <th>InvoiceMonth</th>\n",
       "      <th>2011-12</th>\n",
       "    </tr>\n",
       "    <tr>\n",
       "      <th>CustomerID</th>\n",
       "      <th></th>\n",
       "    </tr>\n",
       "  </thead>\n",
       "  <tbody>\n",
       "    <tr>\n",
       "      <th>12747</th>\n",
       "      <td>1</td>\n",
       "    </tr>\n",
       "    <tr>\n",
       "      <th>12748</th>\n",
       "      <td>8</td>\n",
       "    </tr>\n",
       "    <tr>\n",
       "      <th>12749</th>\n",
       "      <td>1</td>\n",
       "    </tr>\n",
       "    <tr>\n",
       "      <th>12820</th>\n",
       "      <td>1</td>\n",
       "    </tr>\n",
       "    <tr>\n",
       "      <th>12822</th>\n",
       "      <td>0</td>\n",
       "    </tr>\n",
       "  </tbody>\n",
       "</table>\n",
       "</div>"
      ],
      "text/plain": [
       "InvoiceMonth  2011-12\n",
       "CustomerID           \n",
       "12747               1\n",
       "12748               8\n",
       "12749               1\n",
       "12820               1\n",
       "12822               0"
      ]
     },
     "execution_count": 172,
     "metadata": {},
     "output_type": "execute_result"
    }
   ],
   "source": [
    "y.head()"
   ]
  },
  {
   "cell_type": "code",
   "execution_count": 174,
   "metadata": {},
   "outputs": [],
   "source": [
    "y = y.loc[~y.index.isin(missing_indexes)]"
   ]
  },
  {
   "cell_type": "code",
   "execution_count": 176,
   "metadata": {},
   "outputs": [
    {
     "data": {
      "text/plain": [
       "(3603, 1)"
      ]
     },
     "execution_count": 176,
     "metadata": {},
     "output_type": "execute_result"
    }
   ],
   "source": [
    "y.shape"
   ]
  },
  {
   "cell_type": "code",
   "execution_count": 177,
   "metadata": {},
   "outputs": [],
   "source": [
    "from sklearn.model_selection import train_test_split\n",
    "X_train, X_test, y_train, y_test = train_test_split(X, y, test_size=0.25)"
   ]
  },
  {
   "cell_type": "code",
   "execution_count": 179,
   "metadata": {},
   "outputs": [],
   "source": [
    "from sklearn.linear_model import LinearRegression\n",
    "linreg = LinearRegression()\n",
    "linreg.fit(X_train, y_train)\n",
    "y_train_pred = linreg.predict(X_train)\n",
    "y_test_pred = linreg.predict(X_test)"
   ]
  },
  {
   "cell_type": "code",
   "execution_count": 180,
   "metadata": {},
   "outputs": [
    {
     "name": "stdout",
     "output_type": "stream",
     "text": [
      "RMSE train: 0.38289494077556424; RMSE test: 0.3752139968718747\n",
      "MAE train: 0.4676032238545849, MAE test: 0.460717313703017\n"
     ]
    }
   ],
   "source": [
    "from sklearn.metrics import mean_absolute_error, mean_squared_error\n",
    "rmse_train = np.sqrt(mean_squared_error(y_train, y_train_pred))\n",
    "mae_train = np.sqrt(mean_absolute_error(y_train, y_train_pred))\n",
    "\n",
    "rmse_test = np.sqrt(mean_squared_error(y_test, y_test_pred))\n",
    "mae_test = np.sqrt(mean_absolute_error(y_test, y_test_pred))\n",
    "# Print the performance metrics\n",
    "print('RMSE train: {}; RMSE test: {}\\nMAE train: {}, MAE test: {}'.format(rmse_train, rmse_test, mae_train, mae_test))"
   ]
  },
  {
   "cell_type": "code",
   "execution_count": 184,
   "metadata": {},
   "outputs": [
    {
     "name": "stdout",
     "output_type": "stream",
     "text": [
      "                                 OLS Regression Results                                \n",
      "=======================================================================================\n",
      "Dep. Variable:                      y   R-squared (uncentered):                   0.362\n",
      "Model:                            OLS   Adj. R-squared (uncentered):              0.361\n",
      "Method:                 Least Squares   F-statistic:                              306.1\n",
      "Date:                Tue, 13 Oct 2020   Prob (F-statistic):                   5.08e-260\n",
      "Time:                        15:50:26   Log-Likelihood:                         -1240.3\n",
      "No. Observations:                2702   AIC:                                      2491.\n",
      "Df Residuals:                    2697   BIC:                                      2520.\n",
      "Df Model:                           5                                                  \n",
      "Covariance Type:            nonrobust                                                  \n",
      "==================================================================================\n",
      "                     coef    std err          t      P>|t|      [0.025      0.975]\n",
      "----------------------------------------------------------------------------------\n",
      "recency        -5.354e-05   5.99e-05     -0.894      0.371      -0.000    6.39e-05\n",
      "frequency          0.0448      0.002     28.799      0.000       0.042       0.048\n",
      "monetary        1.431e-05   1.08e-05      1.330      0.184   -6.79e-06    3.54e-05\n",
      "qunatity_avg    5.858e-05   8.36e-05      0.701      0.483      -0.000       0.000\n",
      "quantity_total -4.102e-05   2.37e-05     -1.731      0.084   -8.75e-05    5.45e-06\n",
      "==============================================================================\n",
      "Omnibus:                     1472.237   Durbin-Watson:                   2.030\n",
      "Prob(Omnibus):                  0.000   Jarque-Bera (JB):            14073.507\n",
      "Skew:                           2.418   Prob(JB):                         0.00\n",
      "Kurtosis:                      13.081   Cond. No.                         285.\n",
      "==============================================================================\n",
      "\n",
      "Notes:\n",
      "[1] R² is computed without centering (uncentered) since the model does not contain a constant.\n",
      "[2] Standard Errors assume that the covariance matrix of the errors is correctly specified.\n"
     ]
    }
   ],
   "source": [
    "import statsmodels.api as sm\n",
    "olsreg = sm.OLS(y_train.values.reshape(-1,1), X_train)\n",
    "olsreg = olsreg.fit()\n",
    "print(olsreg.summary())"
   ]
  },
  {
   "cell_type": "code",
   "execution_count": null,
   "metadata": {},
   "outputs": [],
   "source": []
  }
 ],
 "metadata": {
  "kernelspec": {
   "display_name": "Python 3",
   "language": "python",
   "name": "python3"
  },
  "language_info": {
   "codemirror_mode": {
    "name": "ipython",
    "version": 3
   },
   "file_extension": ".py",
   "mimetype": "text/x-python",
   "name": "python",
   "nbconvert_exporter": "python",
   "pygments_lexer": "ipython3",
   "version": "3.7.1"
  }
 },
 "nbformat": 4,
 "nbformat_minor": 4
}
